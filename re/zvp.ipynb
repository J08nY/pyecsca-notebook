{
 "cells": [
  {
   "cell_type": "markdown",
   "id": "3ff024c8-7e90-4094-ab07-a051a601d9cd",
   "metadata": {},
   "source": [
    "# ZVP-based reverse-engineering"
   ]
  },
  {
   "cell_type": "code",
   "execution_count": null,
   "id": "17a9e580-5f1e-45c9-8afd-fc35e833b0b0",
   "metadata": {},
   "outputs": [],
   "source": [
    "import io\n",
    "import sympy\n",
    "from sympy import FF, sympify, symbols, Poly, Monomial\n",
    "from collections import Counter\n",
    "import tabulate\n",
    "from functools import partial\n",
    "from itertools import product\n",
    "from IPython.display import HTML, display\n",
    "from tqdm.notebook import tqdm\n",
    "from anytree import RenderTree, PreOrderIter\n",
    "from concurrent.futures import ProcessPoolExecutor, as_completed\n",
    "\n",
    "from pyecsca.ec.model import ShortWeierstrassModel\n",
    "from pyecsca.ec.coordinates import AffineCoordinateModel\n",
    "from pyecsca.ec.curve import EllipticCurve\n",
    "from pyecsca.ec.params import DomainParameters, load_params_ecgen\n",
    "from pyecsca.ec.formula import FormulaAction, AdditionFormula, DoublingFormula\n",
    "from pyecsca.ec.point import Point\n",
    "from pyecsca.ec.mod import Mod, gcd, SymbolicMod\n",
    "from pyecsca.sca.re.tree import build_distinguishing_tree, expand_tree\n",
    "from pyecsca.sca.re.rpa import MultipleContext\n",
    "from pyecsca.sca.re.zvp import zvp_points, compute_factor_set\n",
    "from pyecsca.ec.context import DefaultContext, local\n",
    "from pyecsca.ec.mult import LTRMultiplier, AccumulationOrder\n",
    "from pyecsca.misc.cfg import getconfig\n",
    "from pyecsca.ec.error import NonInvertibleError, UnsatisfiedAssumptionError\n",
    "from pyecsca.sca.re.zvp import unroll_formula, compute_factor_set, zvp_points, addition_chain, precomp_zvp_points"
   ]
  },
  {
   "cell_type": "code",
   "execution_count": null,
   "id": "c2240ed4-5279-487a-ad90-f6a6798f403c",
   "metadata": {},
   "outputs": [],
   "source": [
    "# TODO: Maybe combine with EPA?\n",
    "# TODO: Maybe extend oracle with number or position?"
   ]
  },
  {
   "cell_type": "markdown",
   "id": "60547b40-9b8e-409b-8b7e-b3dc266c01d4",
   "metadata": {},
   "source": [
    "## Exploration\n",
    "First lets explore the behavior of addition formulas. The following two cells pick a coordinate model along with some formulas and symbolically unroll a scalar multiplication."
   ]
  },
  {
   "cell_type": "code",
   "execution_count": null,
   "id": "8de124f1-9498-4e55-8b7f-1bd291ccf3fe",
   "metadata": {},
   "outputs": [],
   "source": [
    "model = ShortWeierstrassModel()\n",
    "coordsaff = AffineCoordinateModel(model)\n",
    "which = \"jacobian\"\n",
    "coords = model.coordinates[which]"
   ]
  },
  {
   "cell_type": "code",
   "execution_count": null,
   "id": "2193ab53-9dc9-4ba4-89d3-e331e5cc20de",
   "metadata": {},
   "outputs": [],
   "source": [
    "getconfig().ec.mod_implementation = \"symbolic\"\n",
    "x, y, z = symbols(\"x y z\")\n",
    "\n",
    "# A 64-bit prime order curve for testing things out\n",
    "p = 0xc50de883f0e7b167\n",
    "field = FF(p)\n",
    "a = SymbolicMod(Poly(0x4833d7aa73fa6694, x, y, z, domain=field), p)\n",
    "b = SymbolicMod(Poly(0xa6c44a61c5323f6a, x, y, z, domain=field), p)\n",
    "gx = SymbolicMod(Poly(0x5fd1f7d38d4f2333, x, y, z, domain=field), p)\n",
    "gy = SymbolicMod(Poly(0x21f43957d7e20ceb, x, y, z, domain=field), p)\n",
    "n = 0xc50de885003b80eb\n",
    "h = 1\n",
    "\n",
    "infty = Point(coords, X=Mod(0, p), Y=Mod(1, p), Z=Mod(0, p))\n",
    "g = Point(coords, X=gx, Y=gy, Z=Mod(1, p))\n",
    "\n",
    "curve = EllipticCurve(model, coords, p, infty, dict(a=a,b=b))\n",
    "params = DomainParameters(curve, g, n, h)\n",
    "\n",
    "\n",
    "add = coords.formulas[\"add-2007-bl\"]\n",
    "dbl = coords.formulas[\"dbl-2007-bl\"]\n",
    "mult = LTRMultiplier(add, dbl, None, False, AccumulationOrder.PeqRP, True, True)\n",
    "\n",
    "\n",
    "point = Point(coords,\n",
    "              X=SymbolicMod(Poly(x, x, y, z, domain=field), params.curve.prime),\n",
    "              Y=SymbolicMod(Poly(y, x, y, z, domain=field), params.curve.prime),\n",
    "              Z=SymbolicMod(Poly(z, x, y, z, domain=field), params.curve.prime))\n",
    "mult.init(params, point)\n",
    "res = mult.multiply(5)"
   ]
  },
  {
   "cell_type": "code",
   "execution_count": null,
   "id": "d8ea0c4d-86e1-46af-ac20-569e6ef5439d",
   "metadata": {},
   "outputs": [],
   "source": [
    "cfg = getconfig()\n",
    "cfg.ec.mod_implementation = \"gmp\""
   ]
  },
  {
   "cell_type": "markdown",
   "id": "c3b3ae94-242b-4f36-81e3-e8a64b5af33c",
   "metadata": {},
   "source": [
    "## Reverse-engineering\n",
    "Now, lets look at using the ZVP attack for reverse-engineering. First pick 10 random curves and one curve with `a = 0`. These curves are not special in any way and just serve to randomize the process, as the existence of ZVP points for a given intermediate value polynomial depends on the curve."
   ]
  },
  {
   "cell_type": "code",
   "execution_count": null,
   "id": "0252f8fa-012c-453c-ba23-b40f9686fcce",
   "metadata": {},
   "outputs": [],
   "source": [
    "curves = list(map(lambda spec: load_params_ecgen(io.BytesIO(spec.encode()), \"affine\"), [\n",
    "    \"\"\"[{\"field\":{\"p\":\"0xa7ec3617d4166b2d\"},\"a\":\"0x372994d9d680a83b\",\"b\":\"0xa0a2bf719d8e68c5\",\"order\":\"0xa7ec3618be1dab55\",\"subgroups\":[{\"x\":\"0x1ef15756946a5b6d\",\"y\":\"0x2ca9658f7ab9a558\",\"order\":\"0xa7ec3618be1dab55\",\"cofactor\":\"0x1\",\"points\":[{\"x\":\"0x1ef15756946a5b6d\",\"y\":\"0x2ca9658f7ab9a558\",\"order\":\"0xa7ec3618be1dab55\"}]}]}]\"\"\",\n",
    "    \"\"\"[{\"field\":{\"p\":\"0xa42c1467a1ed04f3\"},\"a\":\"0x55d07340a4572f2d\",\"b\":\"0x0a938c37dfb0b6d5\",\"order\":\"0xa42c14689284d3a7\",\"subgroups\":[{\"x\":\"0x8633981c83ed43a2\",\"y\":\"0x7b5374e9d7997199\",\"order\":\"0xa42c14689284d3a7\",\"cofactor\":\"0x1\",\"points\":[{\"x\":\"0x8633981c83ed43a2\",\"y\":\"0x7b5374e9d7997199\",\"order\":\"0xa42c14689284d3a7\"}]}]}]\"\"\",\n",
    "    \"\"\"[{\"field\":{\"p\":\"0xea0d9cead19016ab\"},\"a\":\"0xcbbfe501c4ef6d92\",\"b\":\"0x5762de777a6d9178\",\"order\":\"0xea0d9cea8cd2c857\",\"subgroups\":[{\"x\":\"0xe7daa3e061c3111b\",\"y\":\"0x56ee59a6845c5e93\",\"order\":\"0xea0d9cea8cd2c857\",\"cofactor\":\"0x1\",\"points\":[{\"x\":\"0xe7daa3e061c3111b\",\"y\":\"0x56ee59a6845c5e93\",\"order\":\"0xea0d9cea8cd2c857\"}]}]}]\"\"\",\n",
    "    \"\"\"[{\"field\":{\"p\":\"0x9c7e7216decb71a7\"},\"a\":\"0x324ef48887401a87\",\"b\":\"0x3ce6f35a00280102\",\"order\":\"0x9c7e72175ebfe709\",\"subgroups\":[{\"x\":\"0x34683229b405418d\",\"y\":\"0x308c923cae004514\",\"order\":\"0x9c7e72175ebfe709\",\"cofactor\":\"0x1\",\"points\":[{\"x\":\"0x34683229b405418d\",\"y\":\"0x308c923cae004514\",\"order\":\"0x9c7e72175ebfe709\"}]}]}]\"\"\",\n",
    "    \"\"\"[{\"field\":{\"p\":\"0xeb5779f0bbf1ef5b\"},\"a\":\"0x2419e8bbc7b5f8f2\",\"b\":\"0xe74e5d3064a4f2e3\",\"order\":\"0xeb5779f21320c2e9\",\"subgroups\":[{\"x\":\"0x3b6c269560abeb00\",\"y\":\"0x29d157628e75e1c0\",\"order\":\"0xeb5779f21320c2e9\",\"cofactor\":\"0x1\",\"points\":[{\"x\":\"0x3b6c269560abeb00\",\"y\":\"0x29d157628e75e1c0\",\"order\":\"0xeb5779f21320c2e9\"}]}]}]\"\"\",\n",
    "    \"\"\"[{\"field\":{\"p\":\"0x97b6ea097868b95d\"},\"a\":\"0x550a41d65e4bcd13\",\"b\":\"0x47c5e527113b261c\",\"order\":\"0x97b6ea094947a76b\",\"subgroups\":[{\"x\":\"0x1e669fe19c865bd9\",\"y\":\"0x05a6bb891920440f\",\"order\":\"0x97b6ea094947a76b\",\"cofactor\":\"0x1\",\"points\":[{\"x\":\"0x1e669fe19c865bd9\",\"y\":\"0x05a6bb891920440f\",\"order\":\"0x97b6ea094947a76b\"}]}]}]\"\"\",\n",
    "    \"\"\"[{\"field\":{\"p\":\"0xa00629e6522032f7\"},\"a\":\"0x896f04a7ae302922\",\"b\":\"0x6bc03365b1f1cb50\",\"order\":\"0xa00629e5c03cf913\",\"subgroups\":[{\"x\":\"0x14b7b48954936d4e\",\"y\":\"0x670dc776273bf899\",\"order\":\"0xa00629e5c03cf913\",\"cofactor\":\"0x1\",\"points\":[{\"x\":\"0x14b7b48954936d4e\",\"y\":\"0x670dc776273bf899\",\"order\":\"0xa00629e5c03cf913\"}]}]}]\"\"\",\n",
    "    \"\"\"[{\"field\":{\"p\":\"0xd47ec1d03a62686d\"},\"a\":\"0xd00a3ee0f5c86b02\",\"b\":\"0x457a5b6c47db38d8\",\"order\":\"0xd47ec1d107db7d6f\",\"subgroups\":[{\"x\":\"0x41ebc3b763f3cd1b\",\"y\":\"0x3d6925f214620e0c\",\"order\":\"0xd47ec1d107db7d6f\",\"cofactor\":\"0x1\",\"points\":[{\"x\":\"0x41ebc3b763f3cd1b\",\"y\":\"0x3d6925f214620e0c\",\"order\":\"0xd47ec1d107db7d6f\"}]}]}]\"\"\",\n",
    "    \"\"\"[{\"field\":{\"p\":\"0xb1c9115c6f40d755\"},\"a\":\"0x79d3ceefafc44ce9\",\"b\":\"0x8316af84264df42b\",\"order\":\"0xb1c9115d17f84a45\",\"subgroups\":[{\"x\":\"0x8b0a274089b53fe5\",\"y\":\"0x3508d33c4beba5ad\",\"order\":\"0xb1c9115d17f84a45\",\"cofactor\":\"0x1\",\"points\":[{\"x\":\"0x8b0a274089b53fe5\",\"y\":\"0x3508d33c4beba5ad\",\"order\":\"0xb1c9115d17f84a45\"}]}]}]\"\"\",\n",
    "    \"\"\"[{\"field\":{\"p\":\"0x8f738fda18cd5dff\"},\"a\":\"0x4747f2f9b8628cbf\",\"b\":\"0x586cdb9378a1389f\",\"order\":\"0x8f738fd8fc7ebed3\",\"subgroups\":[{\"x\":\"0x7ad306c73b64c1b5\",\"y\":\"0x69e3ca555190da4b\",\"order\":\"0x8f738fd8fc7ebed3\",\"cofactor\":\"0x1\",\"points\":[{\"x\":\"0x7ad306c73b64c1b5\",\"y\":\"0x69e3ca555190da4b\",\"order\":\"0x8f738fd8fc7ebed3\"}]}]}]\"\"\",\n",
    "    \"\"\"[{\"field\":{\"p\":\"0xcfef393139c3007f\"},\"a\":\"0xcfef393139c3007e\",\"b\":\"0x950312812acb155f\",\"order\":\"0xcfef39320179387b\",\"subgroups\":[{\"x\":\"0xae2d2f58ca5b5cf7\",\"y\":\"0xc3a4bf3a1dc10005\",\"order\":\"0xcfef39320179387b\",\"cofactor\":\"0x1\",\"points\":[{\"x\":\"0xae2d2f58ca5b5cf7\",\"y\":\"0xc3a4bf3a1dc10005\",\"order\":\"0xcfef39320179387b\"}]}]}]\"\"\",\n",
    "    \"\"\"[{\"field\":{\"p\":\"0x8d79ca36cee026a7\"},\"a\":\"0x8d79ca36cee026a4\",\"b\":\"0x0478c1f80ce2c9c6\",\"order\":\"0x8d79ca35a428c76f\",\"subgroups\":[{\"x\":\"0x2e94a3e38f8b345e\",\"y\":\"0x83e6c6f0cb8f69c4\",\"order\":\"0x8d79ca35a428c76f\",\"cofactor\":\"0x1\",\"points\":[{\"x\":\"0x2e94a3e38f8b345e\",\"y\":\"0x83e6c6f0cb8f69c4\",\"order\":\"0x8d79ca35a428c76f\"}]}]}]\"\"\",\n",
    "    \"\"\"[{\"field\":{\"p\":\"0xceaf446a53f14bc1\"},\"a\":\"0x0000000000000000\",\"b\":\"0x326539376260f173\",\"order\":\"0xceaf446aae275419\",\"subgroups\":[{\"x\":\"0x98fe44948c3f8678\",\"y\":\"0x3d440ee959a912d7\",\"order\":\"0xceaf446aae275419\",\"cofactor\":\"0x1\",\"points\":[{\"x\":\"0x98fe44948c3f8678\",\"y\":\"0x3d440ee959a912d7\",\"order\":\"0xceaf446aae275419\"}]}]}]\"\"\",\n",
    "    #\"\"\"[{\"field\":{\"p\":\"0x9d9119957f02fe3f\"},\"a\":\"0x0106903196d88df9\",\"b\":\"0x0000000000000000\",\"order\":\"0x9d9119957f02fe40\",\"subgroups\":[{\"x\":\"0x191a36b9cd81de96\",\"y\":\"0x10f2c6bded391aa9\",\"order\":\"0x9d9119957f02fe40\",\"cofactor\":\"0x1\",\"points\":[{\"x\":\"0x0000000000000000\",\"y\":\"0x0000000000000000\",\"order\":\"0x2\"},{\"x\":\"0x95913fae9065da0f\",\"y\":\"0x5eeddeee7152d6fb\",\"order\":\"0x276446655fc0bf9\"}]}]}]\"\"\"\n",
    "]))"
   ]
  },
  {
   "cell_type": "markdown",
   "id": "4276de4c-78f4-4cdb-b60e-8c24eabfa00d",
   "metadata": {},
   "source": [
    "First lets fix a scalar, go over the curves and compute the addition chain to obtain information about which multiples of the input point will go into the formulas."
   ]
  },
  {
   "cell_type": "code",
   "execution_count": null,
   "id": "7ab00a5c-2873-40c0-a81c-873350897e46",
   "metadata": {},
   "outputs": [],
   "source": [
    "scalars = [123456789, 98765432, 0b10000000, 0b1010101010, 0b1010101, 77777, 66666, 55555, 44444, 33333, 22222, 11111, 0b1111111111]\n",
    "\n",
    "chains = []\n",
    "for i, (scalar, params) in enumerate(zip(scalars, curves)):\n",
    "    chain = addition_chain(scalar, params, LTRMultiplier, lambda add,dbl: LTRMultiplier(add, dbl, None, False, AccumulationOrder.PeqRP, True, True))\n",
    "    chains.append(chain)"
   ]
  },
  {
   "cell_type": "markdown",
   "id": "12646534-8ca5-48c1-a4ae-1ad62575821f",
   "metadata": {},
   "source": [
    "Now, lets compute the sets of ZVP points, going over all coordinate systems and all of their formulas (that fit the scalar multiplier) and store them into the `point_chains`. These items form individual distinct entries of the distinguishing table."
   ]
  },
  {
   "cell_type": "code",
   "execution_count": null,
   "id": "91bc36bb-80e8-41d8-8612-7f9e24bdf278",
   "metadata": {},
   "outputs": [],
   "source": [
    "bound = 15\n",
    "chain_bound = 10\n",
    "\n",
    "formula_classes = [AdditionFormula, DoublingFormula]\n",
    "point_chains = {}\n",
    "with ProcessPoolExecutor(max_workers=14) as pool:\n",
    "    futures = []\n",
    "    args = []\n",
    "    for coord_name, coords in model.coordinates.items():\n",
    "        for chain, affine_params in zip(chains, curves):\n",
    "            try:\n",
    "                params = affine_params.to_coords(coords)\n",
    "            except UnsatisfiedAssumptionError:\n",
    "                continue\n",
    "            formula_groups = [list(filter(lambda formula: isinstance(formula, formula_class), coords.formulas.values())) for formula_class in formula_classes]\n",
    "\n",
    "            for formula_group, formula_class in zip(formula_groups, formula_classes):\n",
    "                for formula in formula_group:\n",
    "                    futures.append(pool.submit(precomp_zvp_points, chain[:chain_bound], {formula_class.shortname: formula}, params, bound))\n",
    "                    args.append((coords, formula, affine_params))\n",
    "    for future in tqdm(as_completed(futures), desc=\"Compute\", total=len(futures)):\n",
    "        j = futures.index(future)\n",
    "        point_chains[args[j]] = future.result()\n",
    "            "
   ]
  },
  {
   "cell_type": "markdown",
   "id": "55cb5e3c-b1f1-443f-9d5f-269de6eb59ec",
   "metadata": {},
   "source": [
    "Now, accumulate the rows of the distinguishing table to create the distinguishing map `point_map`."
   ]
  },
  {
   "cell_type": "code",
   "execution_count": null,
   "id": "b7c7b341-5b15-44fb-b9cf-462b64e7536e",
   "metadata": {},
   "outputs": [],
   "source": [
    "point_map = {}\n",
    "for coord_name, coords in tqdm(model.coordinates.items(), desc=\"Accumulate for coord systems\"):\n",
    "    formula_groups = [list(filter(lambda formula: isinstance(formula, formula_class) and (formula.name.startswith(\"add\") or formula.name.startswith(\"dbl\")), coords.formulas.values())) for formula_class in formula_classes]\n",
    "    formula_combinations = list(product(*formula_groups))\n",
    "    for formulas in formula_combinations:\n",
    "        points = set()\n",
    "        for formula in formulas:\n",
    "            for chain, affine_params in zip(chains, curves):\n",
    "                try:\n",
    "                    params = affine_params.to_coords(coords)\n",
    "                except UnsatisfiedAssumptionError:\n",
    "                    continue\n",
    "                point_chain = point_chains[(coords, formula, affine_params)]\n",
    "                for step in point_chain:\n",
    "                    for poly, poly_points in step.items():\n",
    "                        for point in poly_points:\n",
    "                            points.add((point, affine_params))\n",
    "        point_map[formulas] = points\n",
    "all_points = set().union(*point_map.values())\n",
    "print(len(all_points))"
   ]
  },
  {
   "cell_type": "markdown",
   "id": "2718285c-913c-4d46-b3bc-db8c7ef1f9ee",
   "metadata": {},
   "source": [
    "We now have a distinguishing map so we can build the tree and visualize it."
   ]
  },
  {
   "cell_type": "code",
   "execution_count": null,
   "id": "8afea2a8-49a1-4969-a19e-9e17e26fb1e8",
   "metadata": {},
   "outputs": [],
   "source": [
    "tree = build_distinguishing_tree(set(point_map.keys()), point_map)"
   ]
  },
  {
   "cell_type": "code",
   "execution_count": null,
   "id": "49ee4c6f",
   "metadata": {},
   "outputs": [],
   "source": [
    "def print_leaf_sizes(tree):\n",
    "    leaf_sizes = [len(leaf.cfgs) for leaf in tree.leaves]\n",
    "    print(sorted(leaf_sizes))\n",
    "\n",
    "print_leaf_sizes(tree)"
   ]
  },
  {
   "cell_type": "code",
   "execution_count": null,
   "id": "ab09b767-71ca-4d28-abf0-532307efefbd",
   "metadata": {
    "scrolled": true
   },
   "outputs": [],
   "source": [
    "print(RenderTree(tree).by_attr(lambda n: n.name if n.name is not None else \"\\n\".join((\", \".join(str(formula) for formula in cfg) for cfg in n.cfgs))))"
   ]
  },
  {
   "cell_type": "markdown",
   "id": "ed2d4b51-573f-4fef-b1a4-d30b3be07423",
   "metadata": {},
   "source": [
    "Our ZVP points might (due to the bounds above thus the incompleteness of our analysis) lead to more zeros than we attribute to then (in more configurations), thus we perform a remapping step where we execute the scalar multiplication with given points and trace whether they introduce the zeros. This gives us a new distinguishing map `remapped_point_map`, now without \"false negatives\"."
   ]
  },
  {
   "cell_type": "code",
   "execution_count": null,
   "id": "ca932717-2b0a-4dea-ae84-988b7d9af233",
   "metadata": {},
   "outputs": [],
   "source": [
    "def remap(coords, formulas, points, scalar):\n",
    "    mult = LTRMultiplier(*formulas, None, False, AccumulationOrder.PeqRP, True, True)\n",
    "    new_points = set()\n",
    "    param_map = {}\n",
    "    for point, params in tqdm(points):\n",
    "        if params not in param_map:\n",
    "            try:\n",
    "                param_map[params] = params.to_coords(coords)\n",
    "            except UnsatisfiedAssumptionError:\n",
    "                param_map[params] = None\n",
    "                continue\n",
    "        elif param_map[params] is None:\n",
    "            continue\n",
    "        mult.init(param_map[params], point.to_model(param_map[params].curve.coordinate_model, param_map[params].curve))\n",
    "        with local(DefaultContext()) as ctx:\n",
    "            try:\n",
    "                mult.multiply(scalar)\n",
    "            except UnsatisfiedAssumptionError:\n",
    "                continue\n",
    "        trace = []\n",
    "        def callback(action):\n",
    "            if isinstance(action, FormulaAction):\n",
    "                for intermediate in action.op_results:\n",
    "                    trace.append(intermediate.value)\n",
    "        ctx.actions.walk(callback)\n",
    "        hit_zero = any(int(value) == 0 for value in trace)\n",
    "        if hit_zero:\n",
    "            new_points.add((point, params))\n",
    "    return new_points\n",
    "\n",
    "remapped_point_map = {}\n",
    "with ProcessPoolExecutor(max_workers=12) as pool:\n",
    "    futures = []\n",
    "    pairs = []\n",
    "    for coord_name, coords in model.coordinates.items():\n",
    "        formula_groups = [list(filter(lambda formula: isinstance(formula, formula_class) and (formula.name.startswith(\"add\") or formula.name.startswith(\"dbl\")), coords.formulas.values())) for formula_class in formula_classes]\n",
    "        formula_combinations = list(product(*formula_groups))\n",
    "        for formulas in formula_combinations:\n",
    "            #remap(coords, formulas, all_points, scalar)\n",
    "            #break\n",
    "            futures.append(pool.submit(remap, coords, formulas, all_points, scalar))\n",
    "            pairs.append(formulas)\n",
    "        #break\n",
    "    results = [None for _ in futures]\n",
    "    for future in tqdm(as_completed(futures), total=len(futures), desc=\"Remap\"):\n",
    "        j = futures.index(future)\n",
    "        remapped_point_map[pairs[j]] = future.result()"
   ]
  },
  {
   "cell_type": "markdown",
   "id": "8a909b33-5c4d-450b-ad97-dee3615d8462",
   "metadata": {},
   "source": [
    "We can compare the remapped distinguishing map to the original one and see the changes."
   ]
  },
  {
   "cell_type": "code",
   "execution_count": null,
   "id": "cc87dfd1-f058-4338-aaca-fc05105fc9f1",
   "metadata": {
    "scrolled": true
   },
   "outputs": [],
   "source": [
    "for pair in point_map.keys():\n",
    "    print(pair[0], pair[1],\n",
    "          len(point_map[pair]),\n",
    "          len(remapped_point_map[pair]),\n",
    "          -len(point_map[pair].difference(remapped_point_map[pair])),\n",
    "          len(remapped_point_map[pair].difference(point_map[pair])))\n",
    "    #crvs = set()\n",
    "    #for point, params in remapped_point_map[pair].difference(point_map[pair]):\n",
    "    #    crvs.add(params)\n",
    "    #print(repr(crvs))"
   ]
  },
  {
   "cell_type": "markdown",
   "id": "3c0d710b-19fd-4ff7-a39f-f38b1b8856f8",
   "metadata": {},
   "source": [
    "Finally, we can build a tree using the remapped distinguishing map."
   ]
  },
  {
   "cell_type": "code",
   "execution_count": null,
   "id": "5ffc5564-a42b-4837-94bb-4ecb890b38b2",
   "metadata": {},
   "outputs": [],
   "source": [
    "remapped_tree = build_distinguishing_tree(set(remapped_point_map.keys()), remapped_point_map)\n",
    "print_leaf_sizes(remapped_tree)"
   ]
  },
  {
   "cell_type": "code",
   "execution_count": null,
   "id": "5d2bbf5b-76e6-4137-9c32-cbd09a5c3600",
   "metadata": {
    "scrolled": true
   },
   "outputs": [],
   "source": [
    "print(RenderTree(remapped_tree).by_attr(lambda n: n.name if n.name is not None else \"\\n\".join((\", \".join(str(formula) for formula in cfg) for cfg in n.cfgs))))"
   ]
  },
  {
   "cell_type": "code",
   "execution_count": null,
   "id": "3ea9912e",
   "metadata": {},
   "outputs": [],
   "source": [
    "def remap(coords, formulas, points, scalar):\n",
    "    mult = LTRMultiplier(*formulas, None, False, AccumulationOrder.PeqRP, True, True)\n",
    "    new_points = set()\n",
    "    param_map = {}\n",
    "    for point, params in tqdm(points):\n",
    "        if params not in param_map:\n",
    "            try:\n",
    "                param_map[params] = params.to_coords(coords)\n",
    "            except UnsatisfiedAssumptionError:\n",
    "                param_map[params] = None\n",
    "                continue\n",
    "        elif param_map[params] is None:\n",
    "            continue\n",
    "        mult.init(param_map[params], point.to_model(param_map[params].curve.coordinate_model, param_map[params].curve))\n",
    "        with local(DefaultContext()) as ctx:\n",
    "            try:\n",
    "                mult.multiply(scalar)\n",
    "            except UnsatisfiedAssumptionError:\n",
    "                continue\n",
    "        trace = []\n",
    "        def callback(action):\n",
    "            if isinstance(action, FormulaAction):\n",
    "                for intermediate in action.op_results:\n",
    "                    trace.append(intermediate.value)\n",
    "        ctx.actions.walk(callback)\n",
    "        hit_zero = any(int(value) == 0 for value in trace)\n",
    "        #if hit_zero:\n",
    "            #new_points.add((point, params))\n",
    "        hit_zero = sum(int(value) == 0 for value in trace)\n",
    "        new_points.add((point, hit_zero, params))\n",
    "    return new_points\n",
    "\n",
    "remapped_point_map_dupl = {}\n",
    "with ProcessPoolExecutor(max_workers=12) as pool:\n",
    "    futures = []\n",
    "    pairs = []\n",
    "    for coord_name, coords in model.coordinates.items():\n",
    "        formula_groups = [list(filter(lambda formula: isinstance(formula, formula_class) and (formula.name.startswith(\"add\") or formula.name.startswith(\"dbl\")), coords.formulas.values())) for formula_class in formula_classes]\n",
    "        formula_combinations = list(product(*formula_groups))\n",
    "        for formulas in formula_combinations:\n",
    "            #remap(coords, formulas, all_points, scalar)\n",
    "            #break\n",
    "            futures.append(pool.submit(remap, coords, formulas, all_points, scalar))\n",
    "            pairs.append(formulas)\n",
    "        #break\n",
    "    results = [None for _ in futures]\n",
    "    for future in tqdm(as_completed(futures), total=len(futures), desc=\"Remap\"):\n",
    "        j = futures.index(future)\n",
    "        remapped_point_map_dupl[pairs[j]] = future.result()"
   ]
  },
  {
   "cell_type": "code",
   "execution_count": null,
   "id": "10b5059c",
   "metadata": {},
   "outputs": [],
   "source": [
    "remapped_tree_dupl = build_distinguishing_tree(remapped_point_map_dupl)\n",
    "print_leaf_sizes(remapped_tree_dupl)"
   ]
  },
  {
   "cell_type": "code",
   "execution_count": null,
   "id": "c5d52e7a",
   "metadata": {},
   "outputs": [],
   "source": [
    "print(RenderTree(remapped_tree_dupl).by_attr(lambda n: n.name if n.name is not None else \"\\n\".join((\", \".join(str(formula) for formula in cfg) for cfg in n.cfgs))))"
   ]
  },
  {
   "cell_type": "code",
   "execution_count": null,
   "id": "47d2056f",
   "metadata": {},
   "outputs": [],
   "source": [
    "def remap(coords, formulas, points, scalar):\n",
    "    mult = LTRMultiplier(*formulas, None, False, AccumulationOrder.PeqRP, True, True)\n",
    "    new_points = set()\n",
    "    param_map = {}\n",
    "    for point, params in tqdm(points):\n",
    "        if params not in param_map:\n",
    "            try:\n",
    "                param_map[params] = params.to_coords(coords)\n",
    "            except UnsatisfiedAssumptionError:\n",
    "                param_map[params] = None\n",
    "                continue\n",
    "        elif param_map[params] is None:\n",
    "            continue\n",
    "        mult.init(param_map[params], point.to_model(param_map[params].curve.coordinate_model, param_map[params].curve))\n",
    "        with local(DefaultContext()) as ctx:\n",
    "            try:\n",
    "                mult.multiply(scalar)\n",
    "            except UnsatisfiedAssumptionError:\n",
    "                continue\n",
    "        trace = []\n",
    "        def callback(action):\n",
    "            if isinstance(action, FormulaAction):\n",
    "                for intermediate in action.op_results:\n",
    "                    trace.append(intermediate.value)\n",
    "        ctx.actions.walk(callback)\n",
    "        #hit_zero = any(int(value) == 0 for value in trace)\n",
    "        #if hit_zero:\n",
    "            #new_points.add((point, params))\n",
    "        hit_zero = tuple(map(lambda x: int(x) == 0,trace))\n",
    "        new_points.add((point, hit_zero, params))\n",
    "    return new_points\n",
    "\n",
    "remapped_point_map_loc = {}\n",
    "with ProcessPoolExecutor(max_workers=12) as pool:\n",
    "    futures = []\n",
    "    pairs = []\n",
    "    for coord_name, coords in model.coordinates.items():\n",
    "        formula_groups = [list(filter(lambda formula: isinstance(formula, formula_class) and (formula.name.startswith(\"add\") or formula.name.startswith(\"dbl\")), coords.formulas.values())) for formula_class in formula_classes]\n",
    "        formula_combinations = list(product(*formula_groups))\n",
    "        for formulas in formula_combinations:\n",
    "            #remap(coords, formulas, all_points, scalar)\n",
    "            #break\n",
    "            futures.append(pool.submit(remap, coords, formulas, all_points, scalar))\n",
    "            pairs.append(formulas)\n",
    "        #break\n",
    "    results = [None for _ in futures]\n",
    "    for future in tqdm(as_completed(futures), total=len(futures), desc=\"Remap\"):\n",
    "        j = futures.index(future)\n",
    "        remapped_point_map_loc[pairs[j]] = future.result()"
   ]
  },
  {
   "cell_type": "code",
   "execution_count": null,
   "id": "c3a632fb",
   "metadata": {},
   "outputs": [],
   "source": [
    "remapped_tree_loc = build_distinguishing_tree(remapped_point_map_loc)\n",
    "print_leaf_sizes(remapped_tree_loc)"
   ]
  },
  {
   "cell_type": "code",
   "execution_count": null,
   "id": "cf37df73",
   "metadata": {},
   "outputs": [],
   "source": [
    "print(RenderTree(remapped_tree_loc).by_attr(lambda n: n.name if n.name is not None else \"\\n\".join((\", \".join(str(formula) for formula in cfg) for cfg in n.cfgs))))"
   ]
  },
  {
   "cell_type": "code",
   "execution_count": null,
   "id": "d258bc29-b24f-4d57-a183-cb5d58e3f20f",
   "metadata": {},
   "outputs": [],
   "source": [
    "fset_map = {}\n",
    "for coord_name, coords in model.coordinates.items():\n",
    "    formula_groups = [list(filter(lambda formula: isinstance(formula, formula_class) and (formula.name.startswith(\"add\") or formula.name.startswith(\"dbl\")), coords.formulas.values())) for formula_class in formula_classes]\n",
    "    factor_sets = {}\n",
    "    for formula_group in formula_groups:\n",
    "        for formula in formula_group:\n",
    "            fset = compute_factor_set(formula)\n",
    "            factor_sets[formula] = fset\n",
    "    formula_combinations = list(product(*formula_groups))\n",
    "    for formulas in formula_combinations:\n",
    "        fset = set()\n",
    "        for formula in formulas:\n",
    "            fset.update(factor_sets[formula])\n",
    "        fset_map[formulas] = fset"
   ]
  },
  {
   "cell_type": "code",
   "execution_count": null,
   "id": "085c37db-ffbf-4f9e-87d3-5c13ecfeadca",
   "metadata": {},
   "outputs": [],
   "source": [
    "fset_tree = build_distinguishing_tree(set(fset_map.keys()), fset_map)\n",
    "print_leaf_sizes(fset_tree)"
   ]
  },
  {
   "cell_type": "code",
   "execution_count": null,
   "id": "9f0dc435-e08a-45d0-846d-ee865d6a4b7c",
   "metadata": {
    "scrolled": true
   },
   "outputs": [],
   "source": [
    "print(RenderTree(fset_tree).by_attr(lambda n: n.name if n.name is not None else \"\\n\".join((\", \".join(str(formula) for formula in cfg) for cfg in n.cfgs))))"
   ]
  },
  {
   "cell_type": "code",
   "execution_count": null,
   "id": "24c98d6a-fc16-495a-bd70-35cb022b7b17",
   "metadata": {
    "scrolled": true
   },
   "outputs": [],
   "source": [
    "expanded = expand_tree(remapped_tree, fset_map)\n",
    "print(RenderTree(expanded).by_attr(lambda n: n.name if n.name is not None else \"\\n\".join((\", \".join(str(formula) for formula in cfg) for cfg in n.cfgs))))"
   ]
  },
  {
   "cell_type": "code",
   "execution_count": null,
   "id": "1066e690-d036-47b6-995f-c54c412595f9",
   "metadata": {},
   "outputs": [],
   "source": [
    "polys = set()\n",
    "for node in PreOrderIter(expanded):\n",
    "    if not node.name:\n",
    "        continue\n",
    "    _, elem = node.name\n",
    "    if isinstance(elem, Poly):\n",
    "        polys.add(elem)\n",
    "for poly in polys:\n",
    "    print(poly)"
   ]
  },
  {
   "cell_type": "code",
   "execution_count": null,
   "id": "4a4de408-84b7-4559-92a5-94563ba1c1bf",
   "metadata": {},
   "outputs": [],
   "source": [
    "print_leaf_sizes(tree)\n",
    "print_leaf_sizes(fset_tree)\n",
    "print_leaf_sizes(expanded)"
   ]
  },
  {
   "cell_type": "code",
   "execution_count": null,
   "id": "42b5f4cc-c327-4f6c-9d41-357593ef1799",
   "metadata": {},
   "outputs": [],
   "source": [
    "def simulated_oracle(scalar, affine_point, real_coord_name=\"projective\", real_add_name=\"add-2007-bl\", real_dbl_name=\"dbl-2007-bl\"):\n",
    "    real_coords = model.coordinates[real_coord_name]\n",
    "    real_add = real_coords.formulas[real_add_name]\n",
    "    real_dbl = real_coords.formulas[real_dbl_name]\n",
    "    real_mult = LTRMultiplier(real_add, real_dbl, None, False, AccumulationOrder.PeqRP, True, True)\n",
    "    point = affine_point.to_model(params.curve.coordinate_model, params.curve)\n",
    "    with local(DefaultContext()) as ctx:\n",
    "        real_mult.init(params, point)\n",
    "        real_mult.multiply(scalar)\n",
    "\n",
    "    result = {\"result\": False}\n",
    "\n",
    "    def callback(action):\n",
    "        if isinstance(action, FormulaAction):\n",
    "            for intermediate in action.op_results:\n",
    "                if int(value) == 0:\n",
    "                    result[\"result\"] = True\n",
    "                trace.append(intermediate.value)\n",
    "    ctx.actions.walk(callback)\n",
    "    return result[\"result\"]"
   ]
  }
 ],
 "metadata": {
  "kernelspec": {
   "display_name": "Python 3 (ipykernel)",
   "language": "python",
   "name": "python3"
  },
  "language_info": {
   "codemirror_mode": {
    "name": "ipython",
    "version": 3
   },
   "file_extension": ".py",
   "mimetype": "text/x-python",
   "name": "python",
   "nbconvert_exporter": "python",
   "pygments_lexer": "ipython3",
   "version": "3.11.5"
  }
 },
 "nbformat": 4,
 "nbformat_minor": 5
}
