{
 "cells": [
  {
   "cell_type": "markdown",
   "id": "3ff024c8-7e90-4094-ab07-a051a601d9cd",
   "metadata": {},
   "source": [
    "# ZVP-based reverse-engineering"
   ]
  },
  {
   "cell_type": "code",
   "execution_count": null,
   "id": "17a9e580-5f1e-45c9-8afd-fc35e833b0b0",
   "metadata": {},
   "outputs": [],
   "source": [
    "import sympy\n",
    "from sympy import FF, sympify, symbols, Poly, Monomial\n",
    "from collections import Counter\n",
    "import tabulate\n",
    "from IPython.display import HTML, display\n",
    "from tqdm.notebook import tqdm\n",
    "\n",
    "from pyecsca.ec.model import ShortWeierstrassModel\n",
    "from pyecsca.ec.coordinates import AffineCoordinateModel\n",
    "from pyecsca.ec.curve import EllipticCurve\n",
    "from pyecsca.ec.params import DomainParameters\n",
    "from pyecsca.ec.formula import FormulaAction\n",
    "from pyecsca.ec.point import Point\n",
    "from pyecsca.ec.mod import Mod\n",
    "from pyecsca.ec.context import DefaultContext, local\n",
    "from pyecsca.ec.mult import LTRMultiplier, AccumulationOrder\n",
    "from pyecsca.misc.cfg import getconfig\n",
    "from pyecsca.sca.re.zvp import unroll_formula, compute_factor_set, zvp_points"
   ]
  },
  {
   "cell_type": "code",
   "execution_count": null,
   "id": "d8ea0c4d-86e1-46af-ac20-569e6ef5439d",
   "metadata": {},
   "outputs": [],
   "source": [
    "cfg = getconfig()\n",
    "cfg.ec.mod_implementation = \"python\""
   ]
  },
  {
   "cell_type": "code",
   "execution_count": null,
   "id": "8de124f1-9498-4e55-8b7f-1bd291ccf3fe",
   "metadata": {},
   "outputs": [],
   "source": [
    "model = ShortWeierstrassModel()\n",
    "coordsaff = AffineCoordinateModel(model)\n",
    "coords = model.coordinates[\"projective\"]\n",
    "add = coords.formulas[\"add-2007-bl\"]\n",
    "dbl = coords.formulas[\"dbl-2007-bl\"]\n",
    "neg = coords.formulas[\"neg\"]\n",
    "\n",
    "# A 64-bit prime order curve for testing things out\n",
    "p = 0xc50de883f0e7b167\n",
    "a = Mod(0x4833d7aa73fa6694, p)\n",
    "b = Mod(0xa6c44a61c5323f6a, p)\n",
    "gx = Mod(0x5fd1f7d38d4f2333, p)\n",
    "gy = Mod(0x21f43957d7e20ceb, p)\n",
    "n = 0xc50de885003b80eb\n",
    "h = 1\n",
    "\n",
    "field = FF(p)\n",
    "\n",
    "infty = Point(coords, X=Mod(0, p), Y=Mod(1, p), Z=Mod(0, p))\n",
    "g = Point(coords, X=gx, Y=gy, Z=Mod(1, p))\n",
    "\n",
    "curve = EllipticCurve(model, coords, p, infty, dict(a=a,b=b))\n",
    "params = DomainParameters(curve, g, n, h)"
   ]
  },
  {
   "cell_type": "code",
   "execution_count": null,
   "id": "7bb4b36e-9efc-4a4b-a8c5-aad74c0db374",
   "metadata": {},
   "outputs": [],
   "source": [
    "adds = list(filter(lambda formula: formula.name.startswith(\"add\"), coords.formulas.values()))"
   ]
  },
  {
   "cell_type": "code",
   "execution_count": null,
   "id": "3be76ec7-775e-465b-8528-713374b95344",
   "metadata": {},
   "outputs": [],
   "source": [
    "gens = None\n",
    "factor_sets = {}\n",
    "for add in adds:\n",
    "    factor_set = compute_factor_set(add, affine=True)\n",
    "    factor_sets[add.name] = factor_set"
   ]
  },
  {
   "cell_type": "code",
   "execution_count": null,
   "id": "354be601-f3d4-41d9-ac95-e3d146bf7859",
   "metadata": {},
   "outputs": [],
   "source": [
    "c = Counter()\n",
    "for factor_set in factor_sets.values():\n",
    "    for poly in factor_set:\n",
    "        c[poly] += 1\n",
    "print(c)"
   ]
  },
  {
   "cell_type": "code",
   "execution_count": null,
   "id": "e65c4ab0-a9fa-479b-b109-67968fd67c1c",
   "metadata": {},
   "outputs": [],
   "source": [
    "def simulated_oracle(scalar, affine_point):\n",
    "    real_coords = model.coordinates[\"projective\"]\n",
    "    real_add = real_coords.formulas[\"add-2007-bl\"]\n",
    "    real_dbl = real_coords.formulas[\"dbl-2007-bl\"]\n",
    "    real_mult = LTRMultiplier(real_add, real_dbl, None, False, AccumulationOrder.PeqPR, True, True)\n",
    "    point = affine_point.to_model(params.curve.coordinate_model, params.curve)\n",
    "    with local(DefaultContext()) as ctx:\n",
    "        real_mult.init(params, point)\n",
    "        real_mult.multiply(scalar)\n",
    "\n",
    "    trace = []\n",
    "\n",
    "    def callback(action):\n",
    "        if isinstance(action, FormulaAction):\n",
    "            for intermediate in action.op_results:\n",
    "                trace.append(intermediate.value)\n",
    "    ctx.actions.walk(callback)\n",
    "    return any(int(value) == 0 for value in trace)"
   ]
  },
  {
   "cell_type": "code",
   "execution_count": null,
   "id": "ae203ed4-cbdb-4b27-8f0a-0a74340d8e22",
   "metadata": {},
   "outputs": [],
   "source": [
    "table = [[\"Formula\", \"Polynomial\", \"k\", \"Oracle output\"]]\n",
    "\n",
    "big_scalar = 7  # -> dbl(1) = 2, add(1, 2) = 3, dbl(3) = 6, add(1, 6) = 7\n",
    "small_scalars = [2,6]\n",
    "for formula_name, factor_set in tqdm(factor_sets.items()):\n",
    "    for poly in tqdm(factor_set):\n",
    "        for small_scalar in small_scalars:\n",
    "            pts = zvp_points(poly, curve, small_scalar, n)\n",
    "            if pts:\n",
    "                outputs = []\n",
    "                for point in pts:\n",
    "                    #print(formula_name, poly, small_scalar, simulated_oracle(big_scalar, point))\n",
    "                    outputs.append(simulated_oracle(big_scalar, point))\n",
    "                table.append([formula_name, poly, small_scalar, outputs])\n",
    "display(HTML(tabulate.tabulate(table, tablefmt=\"html\", headers=\"firstrow\")))"
   ]
  },
  {
   "cell_type": "code",
   "execution_count": null,
   "id": "d0ef1628-3d87-40be-95a0-3045bb1ee4aa",
   "metadata": {},
   "outputs": [],
   "source": []
  }
 ],
 "metadata": {
  "kernelspec": {
   "display_name": "Python 3 (ipykernel)",
   "language": "python",
   "name": "python3"
  },
  "language_info": {
   "codemirror_mode": {
    "name": "ipython",
    "version": 3
   },
   "file_extension": ".py",
   "mimetype": "text/x-python",
   "name": "python",
   "nbconvert_exporter": "python",
   "pygments_lexer": "ipython3",
   "version": "3.11.5"
  }
 },
 "nbformat": 4,
 "nbformat_minor": 5
}
