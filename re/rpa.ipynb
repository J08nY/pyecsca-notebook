{
 "cells": [
  {
   "cell_type": "markdown",
   "id": "66c30004-cd2c-4d34-9999-f33f9e6fd5e9",
   "metadata": {},
   "source": [
    "# RPA-based reverse-engineering"
   ]
  },
  {
   "cell_type": "code",
   "execution_count": null,
   "id": "11a5f41d-1471-49c3-ba7c-ac87470a31d0",
   "metadata": {},
   "outputs": [],
   "source": [
    "from collections import Counter\n",
    "import numpy as np\n",
    "import holoviews as hv\n",
    "import matplotlib.pyplot as plt\n",
    "from scipy.signal import find_peaks\n",
    "from functools import partial, lru_cache\n",
    "from scipy.stats import bernoulli\n",
    "from concurrent.futures import ProcessPoolExecutor, as_completed\n",
    "\n",
    "from IPython.display import HTML, display\n",
    "from tqdm.auto import tqdm, trange\n",
    "import tabulate\n",
    "\n",
    "from pyecsca.ec.model import ShortWeierstrassModel\n",
    "from pyecsca.ec.coordinates import AffineCoordinateModel\n",
    "from pyecsca.ec.curve import EllipticCurve\n",
    "from pyecsca.ec.params import DomainParameters, get_params\n",
    "from pyecsca.ec.formula import FormulaAction\n",
    "from pyecsca.ec.point import Point\n",
    "from pyecsca.ec.mod import Mod\n",
    "from pyecsca.ec.mult import *\n",
    "from pyecsca.misc.cfg import TemporaryConfig\n",
    "from pyecsca.sca.trace.sampling import downsample_average, downsample_max\n",
    "from pyecsca.sca.trace.process import normalize, rolling_mean\n",
    "from pyecsca.sca.trace.combine import average, subtract\n",
    "from pyecsca.sca.trace.test import welch_ttest\n",
    "from pyecsca.sca.attack.leakage_model import HammingWeight, NormalNoice\n",
    "from pyecsca.ec.context import DefaultContext, local\n",
    "from pyecsca.sca.re.rpa import MultipleContext, rpa_distinguish\n",
    "from pyecsca.sca.trace import Trace\n",
    "from pyecsca.sca.trace.plot import plot_trace, plot_traces"
   ]
  },
  {
   "cell_type": "code",
   "execution_count": null,
   "id": "3ff1d591-f922-4c94-9e47-ab053fc21cf1",
   "metadata": {},
   "outputs": [],
   "source": [
    "%matplotlib inline\n",
    "hv.extension(\"bokeh\")"
   ]
  },
  {
   "cell_type": "code",
   "execution_count": null,
   "id": "194fff59-1c4b-473a-9ffc-99b256aecc24",
   "metadata": {},
   "outputs": [],
   "source": [
    "model = ShortWeierstrassModel()\n",
    "coordsaff = AffineCoordinateModel(model)\n",
    "coords = model.coordinates[\"projective\"]\n",
    "add = coords.formulas[\"add-2007-bl\"]  # The formulas are irrelevant for this method\n",
    "dbl = coords.formulas[\"dbl-2007-bl\"]\n",
    "neg = coords.formulas[\"neg\"]\n",
    "\n",
    "# A 64-bit prime order curve for testing things out\n",
    "p = 0xc50de883f0e7b167\n",
    "a = Mod(0x4833d7aa73fa6694, p)\n",
    "b = Mod(0xa6c44a61c5323f6a, p)\n",
    "gx = Mod(0x5fd1f7d38d4f2333, p)\n",
    "gy = Mod(0x21f43957d7e20ceb, p)\n",
    "n = 0xc50de885003b80eb\n",
    "h = 1\n",
    "\n",
    "# A (0, y) RPA point on the above curve, in affine coords.\n",
    "P0_aff = Point(coordsaff, x=Mod(0, p), y=Mod(0x1742befa24cd8a0d, p))\n",
    "\n",
    "infty = Point(coords, X=Mod(0, p), Y=Mod(1, p), Z=Mod(0, p))\n",
    "g = Point(coords, X=gx, Y=gy, Z=Mod(1, p))\n",
    "\n",
    "curve = EllipticCurve(model, coords, p, infty, dict(a=a,b=b))\n",
    "params = DomainParameters(curve, g, n, h)"
   ]
  },
  {
   "cell_type": "markdown",
   "id": "29fb8683-bcad-4a3e-869b-95f0e4b7bde3",
   "metadata": {},
   "source": [
    "## Exploration\n",
    "First select a bunch of multipliers. We will be trying to distinguish among these."
   ]
  },
  {
   "cell_type": "code",
   "execution_count": null,
   "id": "febb198f-4370-4abd-8edc-17c5c1da8d0f",
   "metadata": {},
   "outputs": [],
   "source": [
    "multipliers = [\n",
    "    LTRMultiplier(add, dbl, None, False, AccumulationOrder.PeqPR, True, True),\n",
    "    LTRMultiplier(add, dbl, None, True, AccumulationOrder.PeqPR, True, True),\n",
    "    RTLMultiplier(add, dbl, None, False, AccumulationOrder.PeqPR, True),\n",
    "    RTLMultiplier(add, dbl, None, True, AccumulationOrder.PeqPR, False),\n",
    "    SimpleLadderMultiplier(add, dbl, None, True, True),\n",
    "    BinaryNAFMultiplier(add, dbl, neg, None, ProcessingDirection.LTR, AccumulationOrder.PeqPR, True),\n",
    "    WindowNAFMultiplier(add, dbl, neg, 3, None, AccumulationOrder.PeqPR, True, True),\n",
    "    WindowNAFMultiplier(add, dbl, neg, 4, None, AccumulationOrder.PeqPR, True, True),\n",
    "    WindowNAFMultiplier(add, dbl, neg, 5, None, AccumulationOrder.PeqPR, True, True),\n",
    "    #WindowNAFMultiplier(add, dbl, neg, 4, None, AccumulationOrder.PeqPR, False, True),  # Same set of multiples as Window NAF with precompute_negation\n",
    "    SlidingWindowMultiplier(add, dbl, 3, None, ProcessingDirection.LTR, AccumulationOrder.PeqPR, True),\n",
    "    SlidingWindowMultiplier(add, dbl, 4, None, ProcessingDirection.LTR, AccumulationOrder.PeqPR, True),\n",
    "    SlidingWindowMultiplier(add, dbl, 5, None, ProcessingDirection.LTR, AccumulationOrder.PeqPR, True),\n",
    "    FixedWindowLTRMultiplier(add, dbl, 4, None, AccumulationOrder.PeqPR, True),\n",
    "    FixedWindowLTRMultiplier(add, dbl, 5, None, AccumulationOrder.PeqPR, True),\n",
    "    FixedWindowLTRMultiplier(add, dbl, 8, None, AccumulationOrder.PeqPR, True),\n",
    "    FullPrecompMultiplier(add, dbl, None, True, ProcessingDirection.LTR, AccumulationOrder.PeqPR, True, True),\n",
    "    FullPrecompMultiplier(add, dbl, None, False, ProcessingDirection.LTR, AccumulationOrder.PeqPR, True, True),\n",
    "    #FullPrecompMultiplier(add, dbl, None, False, ProcessingDirection.RTL, AccumulationOrder.PeqPR, True, True),  # Same set of multiples as RTL multiplier\n",
    "    BGMWMultiplier(add, dbl, 2, None, ProcessingDirection.LTR, AccumulationOrder.PeqPR, True),\n",
    "    BGMWMultiplier(add, dbl, 3, None, ProcessingDirection.LTR, AccumulationOrder.PeqPR, True),\n",
    "    BGMWMultiplier(add, dbl, 5, None, ProcessingDirection.LTR, AccumulationOrder.PeqPR, True),\n",
    "    CombMultiplier(add, dbl, 2, None, AccumulationOrder.PeqPR, True),\n",
    "    CombMultiplier(add, dbl, 3, None, AccumulationOrder.PeqPR, True),\n",
    "    CombMultiplier(add, dbl, 5, None, AccumulationOrder.PeqPR, True)\n",
    "]"
   ]
  },
  {
   "cell_type": "markdown",
   "id": "bea70d56-1359-423b-9273-fae5877f6400",
   "metadata": {},
   "source": [
    "Then select a random scalar and simulate computation using all of the multipliers, track the multiples, print the projective and affine results."
   ]
  },
  {
   "cell_type": "code",
   "execution_count": null,
   "id": "44e7e2e9-e0ad-4c8d-8605-af68f73d73e2",
   "metadata": {},
   "outputs": [],
   "source": [
    "scalar = 0b1000000000000000000000000000000000000000000000000\n",
    "scalar = 0b1111111111111111111111111111111111111111111111111\n",
    "scalar = 0b1010101010101010101010101010101010101010101010101\n",
    "scalar = 0b1111111111111111111111110000000000000000000000000\n",
    "scalar = 123456789123456789\n",
    "scarar = 8750920244948492046\n",
    "# multiples is a mapping from a multiple (integer) to a set of scalar multipliers that compute said multiple when doing [scalar]P\n",
    "multiples = {}\n",
    "\n",
    "table = [[\"Multiplier\", \"multiples\"]]\n",
    "\n",
    "for mult in multipliers:\n",
    "    with local(MultipleContext()) as ctx:\n",
    "        mult.init(params, g)\n",
    "        res = mult.multiply(scalar)\n",
    "    for m in ctx.points.values():\n",
    "        s = multiples.setdefault(m, set())\n",
    "        s.add(mult)\n",
    "    table.append([str(mult), str(list(ctx.points.values()))])\n",
    "\n",
    "display(HTML(tabulate.tabulate(table, tablefmt=\"html\", headers=\"firstrow\")))"
   ]
  },
  {
   "cell_type": "markdown",
   "id": "ba284641-c29b-4e42-95ec-aa630e305b10",
   "metadata": {},
   "source": [
    "Pick a multiple `k` that is computed by some multiplier for the scalar,\n",
    "invert it mod n, and do `[k^-1]P0` to obtain a point `P0_target`,\n",
    "such that, `[k]P0_target = P0` and `P0` has a zero coordinate."
   ]
  },
  {
   "cell_type": "code",
   "execution_count": null,
   "id": "a7fb8a3f-7938-493b-88dc-582ba4d8959d",
   "metadata": {},
   "outputs": [],
   "source": [
    "k = 108\n",
    "kinv = Mod(k, n).inverse()\n",
    "P0_target = curve.affine_multiply(P0_aff, int(kinv)).to_model(coords, curve)\n",
    "\n",
    "print(\"Original P0\", P0_aff)\n",
    "print(\"P0_target  \", P0_target.to_affine())\n",
    "print(\"Verify P0  \", curve.affine_multiply(P0_target.to_affine(), k))"
   ]
  },
  {
   "cell_type": "markdown",
   "id": "914a67a5-b6a2-4d02-811f-a423099853c3",
   "metadata": {},
   "source": [
    "Now go over the multipliers with P0_target and the original scalar as input.\n",
    "Then look whether a zero coordinate point was computed.\n",
    "Also look at whether the multiple \"k\" was computed. These two should be the same."
   ]
  },
  {
   "cell_type": "code",
   "execution_count": null,
   "id": "8113cb3f-dc06-4cb7-955c-11cedb4fbdd7",
   "metadata": {},
   "outputs": [],
   "source": [
    "table = [[\"Multiplier\", \"zero present\", \"multiple computed\"]]\n",
    "\n",
    "for mult in multipliers:\n",
    "    with local(MultipleContext()) as ctx:\n",
    "        mult.init(params, P0_target)\n",
    "        res = mult.multiply(scalar)\n",
    "    zero = any(map(lambda P: P.X == 0 or P.Y == 0, ctx.points.keys()))\n",
    "    multiple = k in ctx.points.values()\n",
    "    table.append([str(mult), f\"<b>{zero}</b>\" if zero else zero, f\"<b>{multiple}</b>\" if multiple else multiple])\n",
    "\n",
    "display(HTML(tabulate.tabulate(table, tablefmt=\"unsafehtml\", headers=\"firstrow\", colalign=(\"left\", \"center\", \"center\"))))"
   ]
  },
  {
   "cell_type": "markdown",
   "id": "0d2b9fe8-5064-4887-b782-dcfe9f42d217",
   "metadata": {},
   "source": [
    "Now lets look at the relation of multiples to multipliers."
   ]
  },
  {
   "cell_type": "code",
   "execution_count": null,
   "id": "67d7705c-6a41-47d9-ad1e-23ea549aaf00",
   "metadata": {
    "scrolled": true
   },
   "outputs": [],
   "source": [
    "table = [[\"Multiple\", \"Multipliers\"]]\n",
    "for multiple, mults in multiples.items():\n",
    "    table.append([bin(multiple), [mult.__class__.__name__ for mult in mults]])\n",
    "\n",
    "display(HTML(tabulate.tabulate(table, tablefmt=\"html\", headers=\"firstrow\")))"
   ]
  },
  {
   "cell_type": "markdown",
   "id": "9b8e4338-a2a8-468e-8873-c18c77260cfc",
   "metadata": {},
   "source": [
    "Note that all of the exploration so far was in a context of a fixed scalar. Even though for a given scalar some multipliers might be indistinguishable from the perspective of the multiples they compute, there may be other scalars that distinguish them."
   ]
  },
  {
   "cell_type": "markdown",
   "id": "e9015f3c-fba6-4614-b722-848b8522d072",
   "metadata": {},
   "source": [
    "## Reverse-engineering\n",
    "\n",
    "### Oracle simulation\n",
    "The `simulated_oracle` function simulates an RPA oracle that detect a zero coordinate point in the scalar multiplication.\n",
    "This can be used by the `rpa_distinguish` function to distinguish the true scalar multiplier. The oracle is parametrized with the simulated multiplier index in the table of multipliers (it simulates this \"real\" multiplier). Furthermore, lets also examine a `noisy_oracle` (with a flip probability) and a `biased_oracle` (with asymmetric flip probability).\n",
    "\n",
    "Note that the oracle has two additional parameters `measure_init` and `measure_multiply` which determine whether the oracle considers the zero coordinate point in scalar multiplier initialization (precomputation) and in scalar multiplier multiplication, respectively. This is important for scalar multipliers with precomputation as there one might be able to separate the precomputation and multiplication stages and obtain oracle answers on both separately."
   ]
  },
  {
   "cell_type": "code",
   "execution_count": null,
   "id": "9bb61ac5-d837-4287-a5de-a9a63c346acf",
   "metadata": {},
   "outputs": [],
   "source": [
    "def simulated_oracle(scalar, affine_point, simulate_mult_id=0, measure_init=True, measure_multiply=True, randomize=False):\n",
    "    real_mult = multipliers[simulate_mult_id]\n",
    "    point = affine_point.to_model(params.curve.coordinate_model, params.curve, randomized=randomize)\n",
    "    \n",
    "    # Simulate the multiplier init\n",
    "    with local(MultipleContext()) as ctx:\n",
    "        real_mult.init(params, point)\n",
    "    init_points = set(ctx.parents.keys())\n",
    "    init_parents = set(sum((ctx.parents[point] for point in init_points), []))\n",
    "    # Did zero happen in some input point during the init?\n",
    "    init_zero = any(map(lambda P: P.X == 0 or P.Y == 0, init_parents))\n",
    "    \n",
    "    # Simulate the multiplier multiply\n",
    "    with local(ctx) as ctx:\n",
    "        real_mult.multiply(scalar)\n",
    "    all_points = set(ctx.parents.keys())\n",
    "    multiply_parents = set(sum((ctx.parents[point] for point in all_points - init_points), []))\n",
    "    # Did zero happen in some input point during the multiply?\n",
    "    multiply_zero = any(map(lambda P: P.X == 0 or P.Y == 0, multiply_parents))\n",
    "    real_result = (init_zero and measure_init) or (multiply_zero and measure_multiply)\n",
    "    return real_result\n",
    "\n",
    "def noisy_oracle(oracle, flip_proba=0):\n",
    "    def noisy(*args, **kwargs):\n",
    "        real_result = oracle(*args, **kwargs)\n",
    "        change = bernoulli(flip_proba).rvs()\n",
    "        return bool(real_result ^ change)\n",
    "    return noisy\n",
    "\n",
    "def biased_oracle(oracle, flip_0=0, flip_1=0):\n",
    "    def biased(*args, **kwargs):\n",
    "        real_result = oracle(*args, **kwargs)\n",
    "        change = bernoulli(flip_1).rvs() if real_result else bernoulli(flip_0).rvs()\n",
    "        return bool(real_result ^ change)\n",
    "    return biased"
   ]
  },
  {
   "cell_type": "markdown",
   "id": "c1ad6235-52bf-4bab-90ff-55b67165390e",
   "metadata": {},
   "source": [
    "We can see how the RPA-RE method distinguishes a given multiplier:"
   ]
  },
  {
   "cell_type": "code",
   "execution_count": null,
   "id": "b6c70d89-1c7d-4d7c-bc65-0cf766b86c0a",
   "metadata": {},
   "outputs": [],
   "source": [
    "p256 = get_params(\"secg\", \"secp256r1\", \"projective\")\n",
    "res = rpa_distinguish(params, multipliers, simulated_oracle)"
   ]
  },
  {
   "cell_type": "markdown",
   "id": "068e1ba5-9884-4d2b-97f6-d54313daddad",
   "metadata": {},
   "source": [
    "Now we can examine how the method performs in the presence of noise and with various majority vote parameters. Note that the code below spawns several processes (`num_cores`) and saturates their CPU fully, so set this to something appropriate."
   ]
  },
  {
   "cell_type": "code",
   "execution_count": null,
   "id": "4e9ca09b-9fe4-4c91-ac37-530892b1df48",
   "metadata": {},
   "outputs": [],
   "source": [
    "errs = (0, 0.1, 0.2, 0.3, 0.4, 0.5)\n",
    "majs = (1, 3, 5, 7, 9, 11)\n",
    "correct_tries = np.zeros((len(errs), len(majs)))\n",
    "precise_tries = np.zeros((len(errs), len(majs)))\n",
    "query_tries = np.zeros((len(errs), len(majs)))\n",
    "total_tries = 0\n",
    "\n",
    "num_tries = 50"
   ]
  },
  {
   "cell_type": "code",
   "execution_count": null,
   "id": "265eb13a-6028-4fde-9c3f-cc23768ba63e",
   "metadata": {},
   "outputs": [],
   "source": [
    "num_cores = 30\n",
    "\n",
    "def measure_mult(params, multipliers, simulated_oracle, i, mult, err, majority):\n",
    "    correct = 0\n",
    "    precise = 0\n",
    "    calls = 0\n",
    "    p = lru_cache(maxsize=2)(partial(simulated_oracle, simulate_mult_id=i))\n",
    "    noisy = noisy_oracle(p, flip_proba=err)\n",
    "    def oracle(scalar, affine_point):\n",
    "        nonlocal calls\n",
    "        calls += 1\n",
    "        return noisy(scalar, affine_point)\n",
    "    for j in range(num_tries):\n",
    "        res = rpa_distinguish(params, multipliers, oracle, majority=majority)\n",
    "        if mult in res:\n",
    "            correct += 1\n",
    "            if len(res) == 1:\n",
    "                precise += 1\n",
    "    return correct, precise, calls\n",
    "\n",
    "with TemporaryConfig() as cfg:\n",
    "    cfg.log.enabled = False\n",
    "    with ProcessPoolExecutor(max_workers=num_cores) as pool:\n",
    "        futures = []\n",
    "        args = []\n",
    "        for i, mult in enumerate(multipliers):\n",
    "            for err in errs:\n",
    "                for majority in majs:\n",
    "                    a = (params, multipliers, simulated_oracle, i, mult, err, majority)\n",
    "                    futures.append(pool.submit(measure_mult, *a))\n",
    "                    args.append(a)\n",
    "        results = [None for _ in futures]\n",
    "        for future in tqdm(as_completed(futures), total=len(futures)):\n",
    "            j = futures.index(future)\n",
    "            a = args[j]\n",
    "            results[j] = future.result()"
   ]
  },
  {
   "cell_type": "markdown",
   "id": "4d283a04-decc-422f-b804-addd57a8a635",
   "metadata": {},
   "source": [
    "Now we accumulate the results across the error rate and majority vote parameters."
   ]
  },
  {
   "cell_type": "code",
   "execution_count": null,
   "id": "6cc0af93-8442-4ccf-958f-3502d2d76a34",
   "metadata": {},
   "outputs": [],
   "source": [
    "for a, result in zip(args, results):\n",
    "    i = errs.index(a[5])\n",
    "    j = len(majs) - majs.index(a[6]) - 1\n",
    "    correct_tries[i, j] += result[0]\n",
    "    precise_tries[i, j] += result[1]\n",
    "    query_tries[i, j] += result[2]\n",
    "total_tries += num_tries\n",
    "\n",
    "correct_rate = (correct_tries * 100) / (total_tries * len(multipliers))\n",
    "precise_rate = (precise_tries * 100) / (total_tries * len(multipliers))\n",
    "query_rate = query_tries / (total_tries * len(multipliers))"
   ]
  },
  {
   "cell_type": "markdown",
   "id": "9bda1baa-359a-4f9b-889d-f64e055deff6",
   "metadata": {},
   "source": [
    "We can plot two heatmaps:\n",
    " - One for the average number of queries to the oracle.\n",
    " - One for the success rate of the distinguisher."
   ]
  },
  {
   "cell_type": "code",
   "execution_count": null,
   "id": "3caf3afd-e27e-4b6f-947b-cd8edb2d568d",
   "metadata": {},
   "outputs": [],
   "source": [
    "fig, ax = plt.subplots()\n",
    "im = ax.imshow(query_rate.T, cmap=\"plasma\")\n",
    "cbar_ax = fig.add_axes((0.90, 0.15, 0.04, 0.69))\n",
    "cbar = fig.colorbar(im, cax=cbar_ax)\n",
    "cbar.ax.set_ylabel(\"Average oracle query rate\", rotation=-90, va=\"bottom\")\n",
    "\n",
    "ax.set_xticks(np.arange(len(errs)), labels=errs)\n",
    "ax.set_yticks(np.arange(len(majs)), labels=reversed(majs))\n",
    "ax.set_xlabel(\"err\")\n",
    "ax.set_ylabel(\"majority\")\n",
    "for i in range(len(errs)):\n",
    "    for j in range(len(majs)):\n",
    "        text = ax.text(i, j, f\"{query_rate[i, j]:.2f}\",\n",
    "                       ha=\"center\", va=\"center\", color=\"w\")\n",
    "fig.savefig(\"rpa_re_query_rate.png\", bbox_inches=\"tight\")\n",
    "plt.show()"
   ]
  },
  {
   "cell_type": "code",
   "execution_count": null,
   "id": "09c976dd-4940-40be-b7b2-6da73d672f24",
   "metadata": {},
   "outputs": [],
   "source": [
    "fig, ax = plt.subplots()\n",
    "im = ax.imshow(correct_rate.T, vmin=0, cmap=\"viridis\")\n",
    "cbar_ax = fig.add_axes((0.90, 0.15, 0.04, 0.69))\n",
    "cbar = fig.colorbar(im, cax=cbar_ax)\n",
    "cbar.ax.set_ylabel(\"Success rate\", rotation=-90, va=\"bottom\")\n",
    "cbar.ax.axhline(100 / len(multipliers), color=\"red\", linestyle=\"--\")\n",
    "\n",
    "ax.set_xticks(np.arange(len(errs)), labels=errs)\n",
    "ax.set_yticks(np.arange(len(majs)), labels=reversed(majs))\n",
    "ax.set_xlabel(\"err\")\n",
    "ax.set_ylabel(\"majority\")\n",
    "for i in range(len(errs)):\n",
    "    for j in range(len(majs)):\n",
    "        text = ax.text(i, j, f\"{correct_rate[i, j]:.2f}%\",\n",
    "                       ha=\"center\", va=\"center\", color=\"w\")\n",
    "fig.savefig(\"rpa_re_success_rate.png\", bbox_inches=\"tight\")\n",
    "plt.show()"
   ]
  },
  {
   "cell_type": "markdown",
   "id": "62b0b8f2-8149-4abd-9aa7-a056b237ac6e",
   "metadata": {},
   "source": [
    "### Method simulation\n",
    "\n",
    "The `simulate_trace` function simulates a Hamming weight leakage trace of a given multiplier computing a scalar multiple.\n",
    "This is used by the `simulated_rpa_trace` function that does the RPA attack on simulated traces and returns the differential\n",
    "trace. This is in turn used to build the `simulated_rpa_oracle` which can be used by the `rpa_distinguish` function to perform\n",
    "RPA-RE and distinguish the true scalar multiplier. The oracle is parametrized with the simulated multiplier index in the table of multipliers (it simulates this \"real\" multiplier)."
   ]
  },
  {
   "cell_type": "code",
   "execution_count": null,
   "id": "96bec03e-5397-440b-9e8c-81ba5253921b",
   "metadata": {
    "scrolled": true
   },
   "outputs": [],
   "source": [
    "def simulate_trace(mult, scalar, point):\n",
    "    with local(DefaultContext()) as ctx:\n",
    "        mult.init(params, point)\n",
    "        mult.multiply(scalar)\n",
    "\n",
    "    lm = HammingWeight()\n",
    "    trace = []\n",
    "\n",
    "    def callback(action):\n",
    "        if isinstance(action, FormulaAction):\n",
    "            for intermediate in action.op_results:\n",
    "                leak = lm(intermediate.value)\n",
    "                trace.append(leak)\n",
    "\n",
    "    ctx.actions.walk(callback)\n",
    "    return Trace(np.array(trace))\n",
    "\n",
    "def simulated_rpa_trace(mult, scalar, affine_point, noise):\n",
    "    target_point = affine_point.to_model(params.curve.coordinate_model, params.curve)\n",
    "    random_point = params.curve.affine_random().to_model(params.curve.coordinate_model, params.curve)\n",
    "\n",
    "    random_traces = [noise(simulate_trace(mult, scalar, random_point)) for _ in range(10)]\n",
    "    target_traces = [noise(simulate_trace(mult, scalar, target_point)) for _ in range(500)]\n",
    "\n",
    "    random_avg = average(*random_traces)\n",
    "    target_avg = average(*target_traces)\n",
    "\n",
    "    diff_trace = downsample_max(subtract(random_avg, target_avg), 25)\n",
    "    return diff_trace\n",
    "\n",
    "def simulated_rpa_oracle(scalar, affine_point, simulate_mult_id = 0):\n",
    "    real_mult = multipliers[simulate_mult_id]\n",
    "    noise = NormalNoice(0, 1)\n",
    "    diff_trace = normalize(simulated_rpa_trace(real_mult, scalar, affine_point, noise))\n",
    "    peaks, props = find_peaks(diff_trace.samples, height=4)\n",
    "    return len(peaks) != 0"
   ]
  },
  {
   "cell_type": "code",
   "execution_count": null,
   "id": "d74a944f-e0a6-434d-8a12-138dfb9d516e",
   "metadata": {},
   "outputs": [],
   "source": [
    "table = [[\"True multiplier\", \"Reversed\", \"Correct\", \"Remaining\"]]\n",
    "with TemporaryConfig() as cfg:\n",
    "    cfg.log.enabled = False\n",
    "    for i, mult in tqdm(enumerate(multipliers)):\n",
    "        res = rpa_distinguish(params, multipliers, partial(simulated_rpa_oracle, simulate_mult_id = i))\n",
    "        table.append([mult, res, mult in res, len(res)])\n",
    "display(HTML(tabulate.tabulate(table, tablefmt=\"html\", headers=\"firstrow\")))"
   ]
  },
  {
   "cell_type": "markdown",
   "id": "e694b3b3-290d-4528-a611-16a183662944",
   "metadata": {},
   "source": [
    "Note that the oracle function above has several parameters, like noise amplitude, amount of traces simulated, amount of downsampling and peak finding height threshold. The cell below compares the differential RPA trace when the multiple is computed in the simulation vs when it is not."
   ]
  },
  {
   "cell_type": "code",
   "execution_count": null,
   "id": "e47a70d7-7993-4560-9257-dbbc1cf658cf",
   "metadata": {},
   "outputs": [],
   "source": [
    "diff_real = normalize(simulated_rpa_trace(multipliers[0], scalar, P0_target.to_affine(), NormalNoice(0, 1)))\n",
    "diff_nothing = normalize(simulated_rpa_trace(multipliers[5], scalar, P0_target.to_affine(), NormalNoice(0, 1)))\n",
    "plot_traces(diff_real, diff_nothing).opts(responsive=True, height=600)"
   ]
  },
  {
   "cell_type": "code",
   "execution_count": null,
   "id": "efea0ab4-1745-4a13-87fa-501f35cbe903",
   "metadata": {},
   "outputs": [],
   "source": []
  }
 ],
 "metadata": {
  "kernelspec": {
   "display_name": "Python 3 (ipykernel)",
   "language": "python",
   "name": "python3"
  },
  "language_info": {
   "codemirror_mode": {
    "name": "ipython",
    "version": 3
   },
   "file_extension": ".py",
   "mimetype": "text/x-python",
   "name": "python",
   "nbconvert_exporter": "python",
   "pygments_lexer": "ipython3",
   "version": "3.11.5"
  }
 },
 "nbformat": 4,
 "nbformat_minor": 5
}
