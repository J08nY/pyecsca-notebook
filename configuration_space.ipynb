{
 "cells": [
  {
   "cell_type": "markdown",
   "metadata": {
    "collapsed": true,
    "pycharm": {
     "name": "#%% md\n"
    }
   },
   "source": [
    "# Configuration space\n",
    "This notebook explores the configuration space of Elliptic Curve crypto\n",
    "implementations.\n"
   ]
  },
  {
   "cell_type": "markdown",
   "metadata": {
    "pycharm": {
     "name": "#%% md\n"
    }
   },
   "source": [
    "An ECC implementation configuration in **pyecsca** has the following attributes: "
   ]
  },
  {
   "cell_type": "code",
   "execution_count": 1,
   "metadata": {
    "pycharm": {
     "is_executing": false,
     "name": "#%%\n"
    }
   },
   "outputs": [
    {
     "name": "stdout",
     "output_type": "stream",
     "text": [
      "model <class 'pyecsca.ec.model.CurveModel'>\n",
      "    A model(form) of an elliptic curve.\n",
      "\n",
      "coords <class 'pyecsca.ec.coordinates.CoordinateModel'>\n",
      "    A coordinate system for a particular model(form) of an elliptic curve.\n",
      "\n",
      "formulas typing.FrozenSet[pyecsca.ec.formula.Formula]\n",
      "    A formula operating on points.\n",
      "\n",
      "scalarmult <class 'pyecsca.ec.mult.ScalarMultiplier'>\n",
      "    \n",
      "    A scalar multiplication algorithm.\n",
      "\n",
      "    :param short_circuit: Whether the use of formulas will be guarded by short-circuit on inputs\n",
      "                          of the point at infinity.\n",
      "    :param formulas: Formulas this instance will use.\n",
      "    \n",
      "\n",
      "hash_type <enum 'HashType'>\n",
      "    Hash algorithm used in ECDH and ECDSA.\n",
      "        NONE\n",
      "        SHA1\n",
      "        SHA224\n",
      "        SHA256\n",
      "        SHA384\n",
      "        SHA512\n",
      "\n",
      "mod_rand <enum 'RandomMod'>\n",
      "    Method of sampling a uniform integer modulo order.\n",
      "        SAMPLE\n",
      "        REDUCE\n",
      "\n",
      "mult <enum 'Multiplication'>\n",
      "    Base multiplication algorithm to use.\n",
      "        TOOM_COOK\n",
      "        KARATSUBA\n",
      "        COMBA\n",
      "        BASE\n",
      "\n",
      "sqr <enum 'Squaring'>\n",
      "    Base squaring algorithm to use.\n",
      "        TOOM_COOK\n",
      "        KARATSUBA\n",
      "        COMBA\n",
      "        BASE\n",
      "\n",
      "red <enum 'Reduction'>\n",
      "    Modular reduction method used.\n",
      "        BARRETT\n",
      "        MONTGOMERY\n",
      "        BASE\n",
      "\n",
      "inv <enum 'Inversion'>\n",
      "    Inversion algorithm used.\n",
      "        GCD\n",
      "        EULER\n",
      "\n"
     ]
    }
   ],
   "source": [
    "from typing import get_args\n",
    "from pyecsca.ec.configuration import Configuration\n",
    "from dataclasses import fields\n",
    "\n",
    "for field in fields(Configuration):\n",
    "\tname = field.name\n",
    "\ttp = field.type\n",
    "\tdoc = tp.__doc__\n",
    "\tif get_args(field.type):\n",
    "\t\tdoc = get_args(field.type)[0].__doc__\n",
    "\tprint(name, tp)\n",
    "\tprint(\"   \", doc)\n",
    "\tif hasattr(tp, \"names\"):\n",
    "\t\tfor enum_name in tp.names():\n",
    "\t\t\tprint(\"       \", enum_name)\n",
    "\tprint()"
   ]
  },
  {
   "cell_type": "markdown",
   "metadata": {
    "pycharm": {
     "name": "#%% md\n"
    }
   },
   "source": [
    "It is represented by the `Configuration` class."
   ]
  },
  {
   "cell_type": "markdown",
   "metadata": {
    "pycharm": {
     "name": "#%% md\n"
    }
   },
   "source": [
    "## Enumerating configurations\n",
    "\n",
    "The possible configurations can be generated using the `all_configurations()` function.\n",
    "The whole space of configurations is quite huge:"
   ]
  },
  {
   "cell_type": "code",
   "execution_count": 2,
   "metadata": {
    "pycharm": {
     "is_executing": false,
     "name": "#%%\n"
    }
   },
   "outputs": [
    {
     "name": "stdout",
     "output_type": "stream",
     "text": [
      "33661440\n"
     ]
    }
   ],
   "source": [
    "from pyecsca.ec.configuration import all_configurations\n",
    "\n",
    "print(sum(1 for _ in all_configurations()))"
   ]
  },
  {
   "cell_type": "markdown",
   "metadata": {
    "pycharm": {
     "name": "#%% md\n"
    }
   },
   "source": [
    "A large part of the configuration space is due to the independent options which consist of:\n",
    " \n",
    " - `hash_type` of type `HashType` $*6$\n",
    " - `mod_rand` of type `RandomMod` $*2$\n",
    " - `mult` of type `Multiplication` $*4$\n",
    " - `sqr` of type `Squaring` $*4$\n",
    " - `red` of type `Reduction` $*3$\n",
    " - `inv` of type `Inversion` $*2$\n",
    "\n",
    "To restrict the generated configurations, pass keyword arguments to the\n",
    "`all_configurations` matching the names of the attributes of the `Configuration` object."
   ]
  },
  {
   "cell_type": "code",
   "execution_count": 4,
   "metadata": {
    "pycharm": {
     "is_executing": false,
     "name": "#%%\n"
    }
   },
   "outputs": [
    {
     "name": "stdout",
     "output_type": "stream",
     "text": [
      "560\n"
     ]
    }
   ],
   "source": [
    "from pyecsca.ec.configuration import HashType, RandomMod, Multiplication, Squaring, Reduction, Inversion\n",
    "from pyecsca.ec.model import ShortWeierstrassModel\n",
    "from pyecsca.ec.mult import LTRMultiplier\n",
    "\n",
    "model = ShortWeierstrassModel()\n",
    "coords = model.coordinates[\"projective\"]\n",
    "scalarmult = LTRMultiplier\n",
    "independent_opts = {\n",
    "\t\"hash_type\": HashType.SHA256,\n",
    "\t\"mod_rand\": RandomMod.SAMPLE,\n",
    "\t\"mult\": Multiplication.KARATSUBA,\n",
    "\t\"sqr\": Squaring.KARATSUBA,\n",
    "\t\"red\": Reduction.MONTGOMERY,\n",
    "    \"inv\": Inversion.GCD\n",
    "}\n",
    "\n",
    "configs = list(all_configurations(model=model, coords=coords, scalarmult=scalarmult,\n",
    "\t\t\t\t\t\t\t \t  **independent_opts))\n",
    "print(len(configs))"
   ]
  },
  {
   "cell_type": "markdown",
   "metadata": {},
   "source": [
    "We see that when we fixed all parameters except for the scalar multiplier arguments \n",
    "(see the `LTRMultiplier` constructor) we obtained 560 configurations."
   ]
  },
  {
   "cell_type": "markdown",
   "metadata": {},
   "source": [
    "### Models"
   ]
  },
  {
   "cell_type": "code",
   "execution_count": 7,
   "metadata": {
    "pycharm": {
     "is_executing": false,
     "name": "#%%\n"
    }
   },
   "outputs": [
    {
     "data": {
      "text/html": [
       "<table>\n",
       "<thead>\n",
       "<tr><th>Model                </th><th style=\"text-align: right;\">     All</th><th style=\"text-align: right;\">  Without independent options</th><th style=\"text-align: right;\">  Without independent options and scaling</th><th style=\"text-align: right;\">  Without independent options and scalarmult options</th></tr>\n",
       "</thead>\n",
       "<tbody>\n",
       "<tr><td>ShortWeierstrassModel</td><td style=\"text-align: right;\">27565056</td><td style=\"text-align: right;\">                        23928</td><td style=\"text-align: right;\">                                    12364</td><td style=\"text-align: right;\">                                                2660</td></tr>\n",
       "<tr><td>MontgomeryModel      </td><td style=\"text-align: right;\">  313344</td><td style=\"text-align: right;\">                          272</td><td style=\"text-align: right;\">                                      136</td><td style=\"text-align: right;\">                                                  32</td></tr>\n",
       "<tr><td>EdwardsModel         </td><td style=\"text-align: right;\"> 4234752</td><td style=\"text-align: right;\">                         3676</td><td style=\"text-align: right;\">                                     1838</td><td style=\"text-align: right;\">                                                 396</td></tr>\n",
       "<tr><td>TwistedEdwardsModel  </td><td style=\"text-align: right;\"> 1548288</td><td style=\"text-align: right;\">                         1344</td><td style=\"text-align: right;\">                                     1344</td><td style=\"text-align: right;\">                                                 288</td></tr>\n",
       "<tr><td>Total                </td><td style=\"text-align: right;\">33661440</td><td style=\"text-align: right;\">                        29220</td><td style=\"text-align: right;\">                                    15682</td><td style=\"text-align: right;\">                                                3376</td></tr>\n",
       "</tbody>\n",
       "</table>"
      ],
      "text/plain": [
       "<IPython.core.display.HTML object>"
      ]
     },
     "metadata": {},
     "output_type": "display_data"
    }
   ],
   "source": [
    "from IPython.display import HTML, display\n",
    "import tabulate\n",
    "from pyecsca.ec.model import *\n",
    "\n",
    "model_counts = [[\"Model\", \"All\", \"Without independent options\", \"Without independent options and scaling\", \"Without independent options and scalarmult options\"]]\n",
    "totals = [\"Total\", 0, 0, 0, 0]\n",
    "for model in (ShortWeierstrassModel(), MontgomeryModel(), EdwardsModel(), TwistedEdwardsModel()):\n",
    "\tname = model.__class__.__name__\n",
    "\tcount = sum(1 for _ in all_configurations(model=model, **independent_opts))\n",
    "\tcount_no_scl = sum(1 for _ in all_configurations(model=model, **independent_opts, scalarmult={\"scl\": None}))\n",
    "\tcount_no_opts = sum(1 for _ in all_configurations(model=model, **independent_opts, scalarmult={\"scl\": None, \"always\": True, \"short_circuit\": True, \"complete\": False, \"precompute_negation\": True, \"width\": 3}))\n",
    "\tmodel_counts.append([name, count * (6*2*4*4*3*2), count, count_no_scl, count_no_opts])\n",
    "\ttotals[1] += count * (6*2*4*4*3*2)\n",
    "\ttotals[2] += count\n",
    "\ttotals[3] += count_no_scl\n",
    "\ttotals[4] += count_no_opts\n",
    "model_counts.append(totals)\n",
    "display(HTML(tabulate.tabulate(model_counts, tablefmt=\"html\", headers=\"firstrow\")))"
   ]
  },
  {
   "cell_type": "markdown",
   "metadata": {
    "pycharm": {
     "name": "#%% md\n"
    }
   },
   "source": [
    "### Coordinate systems"
   ]
  },
  {
   "cell_type": "code",
   "execution_count": 8,
   "metadata": {
    "pycharm": {
     "is_executing": false,
     "name": "#%%\n"
    }
   },
   "outputs": [
    {
     "data": {
      "text/html": [
       "<table>\n",
       "<thead>\n",
       "<tr><th>Model                </th><th>Coords      </th><th>All    </th><th>Without independent options  </th><th>Without independent options and scaling  </th><th>Without independent options and scalarmult options  </th></tr>\n",
       "</thead>\n",
       "<tbody>\n",
       "<tr><td>ShortWeierstrassModel</td><td>            </td><td>       </td><td>                             </td><td>                                         </td><td>                                                    </td></tr>\n",
       "<tr><td>                     </td><td>jacobian    </td><td>4644864</td><td>4032                         </td><td>2016                                     </td><td>432                                                 </td></tr>\n",
       "<tr><td>                     </td><td>jacobian-0  </td><td>6193152</td><td>5376                         </td><td>2688                                     </td><td>576                                                 </td></tr>\n",
       "<tr><td>                     </td><td>jacobian-3  </td><td>7741440</td><td>6720                         </td><td>3360                                     </td><td>720                                                 </td></tr>\n",
       "<tr><td>                     </td><td>modified    </td><td>387072 </td><td>336                          </td><td>336                                      </td><td>72                                                  </td></tr>\n",
       "<tr><td>                     </td><td>projective  </td><td>2257920</td><td>1960                         </td><td>980                                      </td><td>210                                                 </td></tr>\n",
       "<tr><td>                     </td><td>projective-1</td><td>1806336</td><td>1568                         </td><td>784                                      </td><td>168                                                 </td></tr>\n",
       "<tr><td>                     </td><td>projective-3</td><td>2709504</td><td>2352                         </td><td>1176                                     </td><td>252                                                 </td></tr>\n",
       "<tr><td>                     </td><td>w12-0       </td><td>129024 </td><td>112                          </td><td>56                                       </td><td>12                                                  </td></tr>\n",
       "<tr><td>                     </td><td>xyzz        </td><td>387072 </td><td>336                          </td><td>168                                      </td><td>36                                                  </td></tr>\n",
       "<tr><td>                     </td><td>xyzz-3      </td><td>774144 </td><td>672                          </td><td>336                                      </td><td>72                                                  </td></tr>\n",
       "<tr><td>                     </td><td>xz          </td><td>534528 </td><td>464                          </td><td>464                                      </td><td>110                                                 </td></tr>\n",
       "<tr><td>MontgomeryModel      </td><td>            </td><td>       </td><td>                             </td><td>                                         </td><td>                                                    </td></tr>\n",
       "<tr><td>                     </td><td>xz          </td><td>313344 </td><td>272                          </td><td>136                                      </td><td>32                                                  </td></tr>\n",
       "<tr><td>EdwardsModel         </td><td>            </td><td>       </td><td>                             </td><td>                                         </td><td>                                                    </td></tr>\n",
       "<tr><td>                     </td><td>inverted    </td><td>774144 </td><td>672                          </td><td>336                                      </td><td>72                                                  </td></tr>\n",
       "<tr><td>                     </td><td>projective  </td><td>3096576</td><td>2688                         </td><td>1344                                     </td><td>288                                                 </td></tr>\n",
       "<tr><td>                     </td><td>yz          </td><td>235008 </td><td>204                          </td><td>102                                      </td><td>24                                                  </td></tr>\n",
       "<tr><td>                     </td><td>yzsquared   </td><td>129024 </td><td>112                          </td><td>56                                       </td><td>12                                                  </td></tr>\n",
       "<tr><td>TwistedEdwardsModel  </td><td>            </td><td>       </td><td>                             </td><td>                                         </td><td>                                                    </td></tr>\n",
       "<tr><td>                     </td><td>extended    </td><td>387072 </td><td>336                          </td><td>336                                      </td><td>72                                                  </td></tr>\n",
       "<tr><td>                     </td><td>extended-1  </td><td>774144 </td><td>672                          </td><td>672                                      </td><td>144                                                 </td></tr>\n",
       "<tr><td>                     </td><td>inverted    </td><td>193536 </td><td>168                          </td><td>168                                      </td><td>36                                                  </td></tr>\n",
       "<tr><td>                     </td><td>projective  </td><td>193536 </td><td>168                          </td><td>168                                      </td><td>36                                                  </td></tr>\n",
       "</tbody>\n",
       "</table>"
      ],
      "text/plain": [
       "<IPython.core.display.HTML object>"
      ]
     },
     "metadata": {},
     "output_type": "display_data"
    }
   ],
   "source": [
    "coords_counts = [[\"Model\", \"Coords\", \"All\", \"Without independent options\", \"Without independent options and scaling\", \"Without independent options and scalarmult options\"]]\n",
    "for model in (ShortWeierstrassModel(), MontgomeryModel(), EdwardsModel(), TwistedEdwardsModel()):\n",
    "\tmodel_name = model.__class__.__name__\n",
    "\tcoords_counts.append([model_name, \"\", \"\", \"\", \"\", \"\"])\n",
    "\tfor coords in sorted(model.coordinates.values(), key=lambda c: c.name):\n",
    "\t\tcoords_name = coords.name\n",
    "\t\tcount = sum(1 for _ in all_configurations(model=model, coords=coords, **independent_opts))\n",
    "\t\tcount_no_scl = sum(1 for _ in all_configurations(model=model, coords=coords, **independent_opts, scalarmult={\"scl\": None}))\n",
    "\t\tcount_no_opts = sum(1 for _ in all_configurations(model=model, coords=coords, **independent_opts, scalarmult={\"scl\": None, \"always\": True, \"short_circuit\": True, \"complete\": False, \"precompute_negation\": True, \"width\": 3}))\n",
    "\t\tcoords_counts.append([\"\", coords_name, count * (6*2*4*4*3*2), count, count_no_scl, count_no_opts])\n",
    "display(HTML(tabulate.tabulate(coords_counts, tablefmt=\"html\", headers=\"firstrow\")))"
   ]
  },
  {
   "cell_type": "markdown",
   "metadata": {},
   "source": [
    "### Scalar multipliers"
   ]
  },
  {
   "cell_type": "code",
   "execution_count": 10,
   "metadata": {
    "pycharm": {
     "is_executing": false,
     "name": "#%%\n"
    }
   },
   "outputs": [
    {
     "data": {
      "text/html": [
       "<table>\n",
       "<thead>\n",
       "<tr><th>ScalarMultiplier            </th><th style=\"text-align: right;\">    All</th><th style=\"text-align: right;\">  Without independent options</th><th style=\"text-align: right;\">  Without independent options and scaling</th><th style=\"text-align: right;\">  Without independent options and scalarmult options</th></tr>\n",
       "</thead>\n",
       "<tbody>\n",
       "<tr><td>LTRMultiplier               </td><td style=\"text-align: right;\">9271296</td><td style=\"text-align: right;\">                         8048</td><td style=\"text-align: right;\">                                     4264</td><td style=\"text-align: right;\">                                                 533</td></tr>\n",
       "<tr><td>RTLMultiplier               </td><td style=\"text-align: right;\">4635648</td><td style=\"text-align: right;\">                         4024</td><td style=\"text-align: right;\">                                     2132</td><td style=\"text-align: right;\">                                                 533</td></tr>\n",
       "<tr><td>CoronMultiplier             </td><td style=\"text-align: right;\">2317824</td><td style=\"text-align: right;\">                         2012</td><td style=\"text-align: right;\">                                     1066</td><td style=\"text-align: right;\">                                                 533</td></tr>\n",
       "<tr><td>LadderMultiplier            </td><td style=\"text-align: right;\"> 686592</td><td style=\"text-align: right;\">                          596</td><td style=\"text-align: right;\">                                      430</td><td style=\"text-align: right;\">                                                  96</td></tr>\n",
       "<tr><td>SimpleLadderMultiplier      </td><td style=\"text-align: right;\">4635648</td><td style=\"text-align: right;\">                         4024</td><td style=\"text-align: right;\">                                     2132</td><td style=\"text-align: right;\">                                                 533</td></tr>\n",
       "<tr><td>DifferentialLadderMultiplier</td><td style=\"text-align: right;\"> 525312</td><td style=\"text-align: right;\">                          456</td><td style=\"text-align: right;\">                                      328</td><td style=\"text-align: right;\">                                                  82</td></tr>\n",
       "<tr><td>BinaryNAFMultiplier         </td><td style=\"text-align: right;\">2317824</td><td style=\"text-align: right;\">                         2012</td><td style=\"text-align: right;\">                                     1066</td><td style=\"text-align: right;\">                                                 533</td></tr>\n",
       "<tr><td>WindowNAFMultiplier         </td><td style=\"text-align: right;\">9271296</td><td style=\"text-align: right;\">                         8048</td><td style=\"text-align: right;\">                                     4264</td><td style=\"text-align: right;\">                                                 533</td></tr>\n",
       "</tbody>\n",
       "</table>"
      ],
      "text/plain": [
       "<IPython.core.display.HTML object>"
      ]
     },
     "metadata": {},
     "output_type": "display_data"
    }
   ],
   "source": [
    "from pyecsca.ec.mult import ScalarMultiplier\n",
    "\n",
    "mult_counts = [[\"ScalarMultiplier\", \"All\", \"Without independent options\", \"Without independent options and scaling\", \"Without independent options and scalarmult options\"]]\n",
    "for mult_cls in ScalarMultiplier.__subclasses__():\n",
    "\tcount = sum(1 for _ in all_configurations(**independent_opts, scalarmult=mult_cls))\n",
    "\tcount_no_scl = sum(1 for _ in all_configurations(**independent_opts, scalarmult={\"cls\": mult_cls, \"scl\": None}))\n",
    "\tcount_no_opts = sum(1 for _ in all_configurations(**independent_opts, scalarmult={\"cls\": mult_cls, \"scl\": None, \"always\": True, \"short_circuit\": True, \"complete\": False, \"precompute_negation\": True, \"width\": 3}))\n",
    "\tmult_counts.append([mult_cls.__name__, count * (6*2*4*4*3*2), count, count_no_scl, count_no_opts])\n",
    "display(HTML(tabulate.tabulate(mult_counts, tablefmt=\"html\", headers=\"firstrow\")))\n"
   ]
  },
  {
   "cell_type": "code",
   "execution_count": null,
   "metadata": {},
   "outputs": [],
   "source": []
  }
 ],
 "metadata": {
  "@webio": {
   "lastCommId": "cde560b9f2c044d9845711a0a2b208b6",
   "lastKernelId": "fb83e665-19e4-4332-b620-9e2ea7aa7c62"
  },
  "hide_input": false,
  "kernelspec": {
   "display_name": "Python 3",
   "language": "python",
   "name": "python3"
  },
  "language_info": {
   "codemirror_mode": {
    "name": "ipython",
    "version": 3
   },
   "file_extension": ".py",
   "mimetype": "text/x-python",
   "name": "python",
   "nbconvert_exporter": "python",
   "pygments_lexer": "ipython3",
   "version": "3.8.2"
  },
  "latex_envs": {
   "LaTeX_envs_menu_present": true,
   "autoclose": false,
   "autocomplete": true,
   "bibliofile": "biblio.bib",
   "cite_by": "apalike",
   "current_citInitial": 1,
   "eqLabelWithNumbers": true,
   "eqNumInitial": 1,
   "hotkeys": {
    "equation": "Ctrl-E",
    "itemize": "Ctrl-I"
   },
   "labels_anchors": false,
   "latex_user_defs": false,
   "report_style_numbering": false,
   "user_envs_cfg": false
  },
  "pycharm": {
   "stem_cell": {
    "cell_type": "raw",
    "metadata": {
     "collapsed": false
    },
    "source": []
   }
  },
  "toc": {
   "base_numbering": 1,
   "nav_menu": {},
   "number_sections": true,
   "sideBar": true,
   "skip_h1_title": false,
   "title_cell": "Table of Contents",
   "title_sidebar": "Contents",
   "toc_cell": false,
   "toc_position": {},
   "toc_section_display": true,
   "toc_window_display": false
  }
 },
 "nbformat": 4,
 "nbformat_minor": 4
}
